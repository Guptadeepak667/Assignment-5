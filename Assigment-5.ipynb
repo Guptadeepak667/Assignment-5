{
 "cells": [
  {
   "cell_type": "markdown",
   "id": "faea420d",
   "metadata": {},
   "source": [
    "##                                                      Assigment-5"
   ]
  },
  {
   "cell_type": "markdown",
   "id": "11606033",
   "metadata": {},
   "source": [
    "#### Que1: What does an empty dictionary's code look like?"
   ]
  },
  {
   "cell_type": "markdown",
   "id": "6a6811c3",
   "metadata": {},
   "source": [
    "Ans: \n",
    "Python, an empty dictionary is created using curly braces {} or by calling the dict() constructor with no arguments. \n",
    "\n",
    "Here's what it looks like:\n",
    "empty_dict = {},\n",
    "empty_dict = dict()"
   ]
  },
  {
   "cell_type": "markdown",
   "id": "67efee5f",
   "metadata": {},
   "source": [
    "#### Que2: What is the value of a dictionary value with the key 'foo' and the value 42?"
   ]
  },
  {
   "cell_type": "code",
   "execution_count": 2,
   "id": "3b8b26a1",
   "metadata": {},
   "outputs": [
    {
     "name": "stdout",
     "output_type": "stream",
     "text": [
      "42\n"
     ]
    }
   ],
   "source": [
    "my_dict = {'foo': 42}\n",
    "value = my_dict['foo']\n",
    "print(value)"
   ]
  },
  {
   "cell_type": "markdown",
   "id": "a33cbaac",
   "metadata": {},
   "source": [
    "#### Que3: What is the most significant distinction between a dictionary and a list?"
   ]
  },
  {
   "cell_type": "markdown",
   "id": "c25a6953",
   "metadata": {},
   "source": [
    "Ans : The most significant distinction between a dictionary and a list in Python is how they store and access data:\n",
    "\n",
    "##### Data Organization:\n",
    "\n",
    "1. List: A list is an ordered collection of elements, and each element is accessed by its index (position) within the list. Lists are typically used when you have a collection of items that need to be in a specific order, and you access them by their position in the list.\n",
    "\n",
    "2. Dictionary: A dictionary is an unordered collection of key-value pairs. Instead of being accessed by an index, data in a dictionary is accessed by a unique key. Dictionaries are used when you need to associate data with specific keys, making it easy to look up values based on those keys.\n",
    "\n",
    "##### Accessing Data:\n",
    "\n",
    "1. List: You access elements in a list by their position using an index, like my_list[0], my_list[1], etc. Lists are indexed by integers.\n",
    "\n",
    "2. Dictionary: You access values in a dictionary by their keys, like my_dict['key1'], my_dict['key2'], etc. Keys can be of various types, not just integers.\n",
    "\n",
    "##### Uniqueness of Elements:\n",
    "\n",
    "1. List: Lists allow duplicate elements, meaning you can have the same value appear multiple times in a list.\n",
    "\n",
    "2. Dictionary: Dictionary keys must be unique; each key can map to only one value. If you try to use the same key for different values, the dictionary will overwrite the previous value with the new one.\n",
    "\n",
    "##### Data Type:\n",
    "\n",
    "1. List: Lists are homogeneous, meaning they can contain elements of any data type (e.g., integers, strings, other lists, etc.).\n",
    "\n",
    "2. Dictionary: Dictionaries can store key-value pairs of various data types. The keys are typically strings or numbers, while the values can be of any data type, including other dictionaries."
   ]
  },
  {
   "cell_type": "markdown",
   "id": "821ea820",
   "metadata": {},
   "source": [
    "#### Que4: What happens if you try to access spam['foo'] if spam is {'bar': 100}?"
   ]
  },
  {
   "cell_type": "markdown",
   "id": "2aa1860a",
   "metadata": {},
   "source": [
    "Ans : If you try to access spam['foo'] when spam is {'bar': 100}, you will get a KeyError, because the key 'foo' does not exist in the dictionary spam. \n",
    "    \n",
    "    Here's what it would look like:\n",
    "    "
   ]
  },
  {
   "cell_type": "code",
   "execution_count": 3,
   "id": "112610db",
   "metadata": {},
   "outputs": [
    {
     "ename": "KeyError",
     "evalue": "'foo'",
     "output_type": "error",
     "traceback": [
      "\u001b[1;31m---------------------------------------------------------------------------\u001b[0m",
      "\u001b[1;31mKeyError\u001b[0m                                  Traceback (most recent call last)",
      "Cell \u001b[1;32mIn[3], line 2\u001b[0m\n\u001b[0;32m      1\u001b[0m spam \u001b[38;5;241m=\u001b[39m {\u001b[38;5;124m'\u001b[39m\u001b[38;5;124mbar\u001b[39m\u001b[38;5;124m'\u001b[39m: \u001b[38;5;241m100\u001b[39m}\n\u001b[1;32m----> 2\u001b[0m value \u001b[38;5;241m=\u001b[39m spam[\u001b[38;5;124m'\u001b[39m\u001b[38;5;124mfoo\u001b[39m\u001b[38;5;124m'\u001b[39m]\n",
      "\u001b[1;31mKeyError\u001b[0m: 'foo'"
     ]
    }
   ],
   "source": [
    "spam = {'bar': 100}\n",
    "value = spam['foo'] "
   ]
  },
  {
   "cell_type": "markdown",
   "id": "a806d787",
   "metadata": {},
   "source": [
    "#### Que5: If a dictionary is stored in spam, what is the difference between the expressions 'cat' in spam and 'cat' in spam.keys()?"
   ]
  },
  {
   "cell_type": "markdown",
   "id": "91f8385b",
   "metadata": {},
   "source": [
    "Ans :\n",
    "In Python, when you have a dictionary stored in the variable spam, there is a difference between the expressions 'cat' in spam and 'cat' in spam.keys().\n",
    "\n",
    "##### 'cat' in spam:\n",
    "\n",
    "1. This expression checks if the string 'cat' is a key in the dictionary spam.\n",
    "2. It returns True if the key 'cat' exists in spam and False if it does not.\n",
    "3. This is the most common and concise way to check for the existence of a key in a dictionary.\n",
    "\n",
    "##### 'cat' in spam.keys():\n",
    "\n",
    "1. This expression first calls the keys() method on the spam dictionary, which returns a view object containing all the keys in the dictionary.\n",
    "2. Then, it checks if the string 'cat' is in this view of keys.\n",
    "3. It essentially does the same thing as 'cat' in spam, but it involves the additional step of creating a view object, which is not necessary for a simple key existence check."
   ]
  },
  {
   "cell_type": "markdown",
   "id": "ba5a311f",
   "metadata": {},
   "source": [
    "#### Que6: If a dictionary is stored in spam, what is the difference between the expressions 'cat' in spam and 'cat' in spam.values()?"
   ]
  },
  {
   "cell_type": "markdown",
   "id": "7793818c",
   "metadata": {},
   "source": [
    "Ans : When you have a dictionary stored in the variable spam, there is a significant difference between the expressions 'cat' in spamand'cat' in spam.values()\n",
    "    \n",
    "#### 'cat' in spam:\n",
    "\n",
    "1. This expression checks if the string 'cat' is a key in the dictionary spam.\n",
    "2. It returns True if the key 'cat' exists in spam and False if it does not.\n",
    "3. It checks for the existence of the key, not the value.\n",
    "\n",
    "#### 'cat' in spam.values():\n",
    "\n",
    "1. This expression checks if the string 'cat' is a value in the dictionary spam.\n",
    "2. It returns True if the value 'cat' exists in any of the values in spam and False if it does not.\n",
    "3. It checks for the existence of the value, not the key.\n",
    "\n",
    "In summary, the difference is in what is being checked:\n",
    "\n",
    "'cat' in spam checks if 'cat' is a key in the dictionary spam.\n",
    "\n",
    "'cat' in spam.values() checks if 'cat' is a value in the dictionary spam."
   ]
  },
  {
   "cell_type": "markdown",
   "id": "343d8d60",
   "metadata": {},
   "source": [
    "#### Que7: What is a shortcut for the following code? \n",
    "if 'color' not in spam:\n",
    "\n",
    "spam['color'] = 'black';"
   ]
  },
  {
   "cell_type": "markdown",
   "id": "fe57d5bc",
   "metadata": {},
   "source": [
    "Ans : You can use the setdefault() method to simplify the code and achieve the same result. The setdefault() method will set a key's value to the specified default value if the key is not already in the dictionary. Here's the shortcut:\n",
    "        \n",
    "        "
   ]
  },
  {
   "cell_type": "code",
   "execution_count": 4,
   "id": "6f32ae83",
   "metadata": {},
   "outputs": [
    {
     "data": {
      "text/plain": [
       "'black'"
      ]
     },
     "execution_count": 4,
     "metadata": {},
     "output_type": "execute_result"
    }
   ],
   "source": [
    "spam.setdefault('color', 'black')\n"
   ]
  },
  {
   "cell_type": "markdown",
   "id": "3f730cda",
   "metadata": {},
   "source": [
    "#### Que8: How do you \"pretty print\" dictionary values using which module and function?"
   ]
  },
  {
   "cell_type": "markdown",
   "id": "175ed045",
   "metadata": {},
   "source": [
    "Ans: You can \"pretty print\" dictionary values in Python using the pprint module (which stands for \"pretty-print\") and the pprint() function from this module. The pprint() function formats and prints complex data structures like dictionaries and lists in a more human-readable way, making them easier to read and understand.\n",
    "\n",
    "Here's how to use the pprint() function to pretty print a dictionary:"
   ]
  },
  {
   "cell_type": "code",
   "execution_count": 5,
   "id": "894b4813",
   "metadata": {},
   "outputs": [
    {
     "name": "stdout",
     "output_type": "stream",
     "text": [
      "{'age': 30,\n",
      " 'city': 'New York',\n",
      " 'interests': ['hiking', 'reading', 'music'],\n",
      " 'name': 'John'}\n"
     ]
    }
   ],
   "source": [
    "import pprint\n",
    "\n",
    "my_dict = {\n",
    "    'name': 'John',\n",
    "    'age': 30,\n",
    "    'city': 'New York',\n",
    "    'interests': ['hiking', 'reading', 'music'],\n",
    "}\n",
    "\n",
    "pprint.pprint(my_dict)\n"
   ]
  }
 ],
 "metadata": {
  "kernelspec": {
   "display_name": "Python 3 (ipykernel)",
   "language": "python",
   "name": "python3"
  },
  "language_info": {
   "codemirror_mode": {
    "name": "ipython",
    "version": 3
   },
   "file_extension": ".py",
   "mimetype": "text/x-python",
   "name": "python",
   "nbconvert_exporter": "python",
   "pygments_lexer": "ipython3",
   "version": "3.11.4"
  }
 },
 "nbformat": 4,
 "nbformat_minor": 5
}
